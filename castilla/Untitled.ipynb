{
 "cells": [
  {
   "cell_type": "code",
   "execution_count": 5,
   "metadata": {},
   "outputs": [
    {
     "ename": "ModuleNotFoundError",
     "evalue": "No module named 'cv2'",
     "output_type": "error",
     "traceback": [
      "\u001b[0;31m---------------------------------------------------------------------------\u001b[0m",
      "\u001b[0;31mModuleNotFoundError\u001b[0m                       Traceback (most recent call last)",
      "\u001b[0;32m<ipython-input-5-f8cb4694367c>\u001b[0m in \u001b[0;36m<module>\u001b[0;34m\u001b[0m\n\u001b[1;32m      1\u001b[0m \u001b[0;32mfrom\u001b[0m \u001b[0mPIL\u001b[0m \u001b[0;32mimport\u001b[0m \u001b[0mImage\u001b[0m\u001b[0;34m\u001b[0m\u001b[0;34m\u001b[0m\u001b[0m\n\u001b[1;32m      2\u001b[0m \u001b[0;32mimport\u001b[0m \u001b[0mnumpy\u001b[0m \u001b[0;32mas\u001b[0m \u001b[0mnp\u001b[0m\u001b[0;34m\u001b[0m\u001b[0;34m\u001b[0m\u001b[0m\n\u001b[0;32m----> 3\u001b[0;31m \u001b[0;32mimport\u001b[0m \u001b[0mcv2\u001b[0m\u001b[0;34m\u001b[0m\u001b[0;34m\u001b[0m\u001b[0m\n\u001b[0m",
      "\u001b[0;31mModuleNotFoundError\u001b[0m: No module named 'cv2'"
     ]
    }
   ],
   "source": [
    "from PIL import Image\n",
    "import numpy as np\n",
    "import cv2"
   ]
  },
  {
   "cell_type": "code",
   "execution_count": null,
   "metadata": {},
   "outputs": [],
   "source": [
    "def norm_hsv(img):\n",
    "    \"\"\"\n",
    "    Normaliza una imagen HSV. La pasa el canal del brillo de 0-255 en np.uint8 a 0-1 en float\n",
    "    \"\"\"\n",
    "    out=np.copy(img.astype(float))\n",
    "    out[:,:,2]=img[:,:,2]/255\n",
    "    return out\n",
    "def denorm_hsv(img):\n",
    "    \"\"\"\n",
    "    Operazion inversa a norm_hsv(). Devulve la imagen HSV en np.uint8 con H de 0-179 S de 0-255 y V de 0-255 (formato estandar de cv2)\n",
    "    \"\"\"\n",
    "    out=np.copy(img)\n",
    "    out[:,:,2]=img[:,:,2]*255\n",
    "    return out.astype(np.uint8)\n",
    "\n",
    "def load_img(file,resize=(1200,800),show=True):\n",
    "    \"\"\"\n",
    "    Carga la imagen suministrada (path) y devuelve la imagen en HSV normalizada (brillo de 0 a 1). Se muestra la imagen al cargarla\n",
    "    \"\"\"\n",
    "\n",
    "    img=cv2.imread(Imgfile,cv2.IMREAD_COLOR)  #Cargar imagen (lo hace en BGR)\n",
    "    \n",
    "    if resize==False:\n",
    "        pass\n",
    "    else:\n",
    "        img=cv2.resize(img,resize)           #Reducir el tamaño si la imagen es grande\n",
    "        \n",
    "    HSVimg = cv2.cvtColor(img, cv2.COLOR_BGR2HSV)\n",
    "    \n",
    "    if show:\n",
    "        fig, axs = plt.subplots(figsize=(30,20))\n",
    "        plt.imshow(cv2.cvtColor(HSVimg,cv2.COLOR_HSV2RGB))\n",
    "    \n",
    "    return norm_hsv(HSVimg)"
   ]
  },
  {
   "cell_type": "code",
   "execution_count": 3,
   "metadata": {},
   "outputs": [
    {
     "ename": "TypeError",
     "evalue": "'JpegImageFile' object is not subscriptable",
     "output_type": "error",
     "traceback": [
      "\u001b[0;31m---------------------------------------------------------------------------\u001b[0m",
      "\u001b[0;31mTypeError\u001b[0m                                 Traceback (most recent call last)",
      "\u001b[0;32m<ipython-input-3-0776507afba2>\u001b[0m in \u001b[0;36m<module>\u001b[0;34m\u001b[0m\n\u001b[1;32m     13\u001b[0m     \u001b[0mplt\u001b[0m\u001b[0;34m.\u001b[0m\u001b[0mimshow\u001b[0m\u001b[0;34m(\u001b[0m\u001b[0mcv2\u001b[0m\u001b[0;34m.\u001b[0m\u001b[0mcvtColor\u001b[0m\u001b[0;34m(\u001b[0m\u001b[0mdenorm_hsv\u001b[0m\u001b[0;34m(\u001b[0m\u001b[0mimg\u001b[0m\u001b[0;34m)\u001b[0m\u001b[0;34m,\u001b[0m \u001b[0mcv2\u001b[0m\u001b[0;34m.\u001b[0m\u001b[0mCOLOR_HSV2RGB\u001b[0m\u001b[0;34m)\u001b[0m\u001b[0;34m)\u001b[0m\u001b[0;34m\u001b[0m\u001b[0;34m\u001b[0m\u001b[0m\n\u001b[1;32m     14\u001b[0m \u001b[0;34m\u001b[0m\u001b[0m\n\u001b[0;32m---> 15\u001b[0;31m \u001b[0mshow_over\u001b[0m\u001b[0;34m(\u001b[0m\u001b[0mimg\u001b[0m\u001b[0;34m,\u001b[0m\u001b[0;36m0.9\u001b[0m\u001b[0;34m)\u001b[0m\u001b[0;34m\u001b[0m\u001b[0;34m\u001b[0m\u001b[0m\n\u001b[0m\u001b[1;32m     16\u001b[0m \u001b[0;34m\u001b[0m\u001b[0m\n\u001b[1;32m     17\u001b[0m \u001b[0;32mdef\u001b[0m \u001b[0mtransform\u001b[0m\u001b[0;34m(\u001b[0m\u001b[0mimg\u001b[0m\u001b[0;34m,\u001b[0m\u001b[0mthresholdToCorrect\u001b[0m\u001b[0;34m,\u001b[0m\u001b[0mthresholdToConsider\u001b[0m\u001b[0;34m)\u001b[0m\u001b[0;34m:\u001b[0m\u001b[0;34m\u001b[0m\u001b[0;34m\u001b[0m\u001b[0m\n",
      "\u001b[0;32m<ipython-input-3-0776507afba2>\u001b[0m in \u001b[0;36mshow_over\u001b[0;34m(img, threshold)\u001b[0m\n\u001b[1;32m      9\u001b[0m     \u001b[0mLa\u001b[0m \u001b[0mintensidad\u001b[0m \u001b[0mva\u001b[0m \u001b[0mde\u001b[0m \u001b[0;36m0\u001b[0m \u001b[0ma\u001b[0m \u001b[0;36m1\u001b[0m\u001b[0;34m,\u001b[0m \u001b[0mpor\u001b[0m \u001b[0mlo\u001b[0m \u001b[0mque\u001b[0m \u001b[0mthreshold\u001b[0m \u001b[0mtambien\u001b[0m\u001b[0;34m.\u001b[0m\u001b[0;34m\u001b[0m\u001b[0;34m\u001b[0m\u001b[0m\n\u001b[1;32m     10\u001b[0m     \"\"\"\n\u001b[0;32m---> 11\u001b[0;31m     \u001b[0mimg\u001b[0m\u001b[0;34m[\u001b[0m\u001b[0;34m:\u001b[0m\u001b[0;34m,\u001b[0m\u001b[0;34m:\u001b[0m\u001b[0;34m,\u001b[0m\u001b[0;36m2\u001b[0m\u001b[0;34m]\u001b[0m\u001b[0;34m=\u001b[0m\u001b[0mnp\u001b[0m\u001b[0;34m.\u001b[0m\u001b[0mwhere\u001b[0m\u001b[0;34m(\u001b[0m\u001b[0mimg\u001b[0m\u001b[0;34m[\u001b[0m\u001b[0;34m:\u001b[0m\u001b[0;34m,\u001b[0m\u001b[0;34m:\u001b[0m\u001b[0;34m,\u001b[0m\u001b[0;36m2\u001b[0m\u001b[0;34m]\u001b[0m\u001b[0;34m>\u001b[0m\u001b[0mthreshold\u001b[0m\u001b[0;34m,\u001b[0m \u001b[0;36m0\u001b[0m\u001b[0;34m,\u001b[0m \u001b[0mimg\u001b[0m\u001b[0;34m[\u001b[0m\u001b[0;34m:\u001b[0m\u001b[0;34m,\u001b[0m\u001b[0;34m:\u001b[0m\u001b[0;34m,\u001b[0m\u001b[0;36m2\u001b[0m\u001b[0;34m]\u001b[0m\u001b[0;34m)\u001b[0m\u001b[0;34m\u001b[0m\u001b[0;34m\u001b[0m\u001b[0m\n\u001b[0m\u001b[1;32m     12\u001b[0m     \u001b[0mfig\u001b[0m\u001b[0;34m,\u001b[0m \u001b[0maxs\u001b[0m \u001b[0;34m=\u001b[0m \u001b[0mplt\u001b[0m\u001b[0;34m.\u001b[0m\u001b[0msubplots\u001b[0m\u001b[0;34m(\u001b[0m\u001b[0mfigsize\u001b[0m\u001b[0;34m=\u001b[0m\u001b[0;34m(\u001b[0m\u001b[0;36m30\u001b[0m\u001b[0;34m,\u001b[0m\u001b[0;36m20\u001b[0m\u001b[0;34m)\u001b[0m\u001b[0;34m)\u001b[0m\u001b[0;34m\u001b[0m\u001b[0;34m\u001b[0m\u001b[0m\n\u001b[1;32m     13\u001b[0m     \u001b[0mplt\u001b[0m\u001b[0;34m.\u001b[0m\u001b[0mimshow\u001b[0m\u001b[0;34m(\u001b[0m\u001b[0mcv2\u001b[0m\u001b[0;34m.\u001b[0m\u001b[0mcvtColor\u001b[0m\u001b[0;34m(\u001b[0m\u001b[0mdenorm_hsv\u001b[0m\u001b[0;34m(\u001b[0m\u001b[0mimg\u001b[0m\u001b[0;34m)\u001b[0m\u001b[0;34m,\u001b[0m \u001b[0mcv2\u001b[0m\u001b[0;34m.\u001b[0m\u001b[0mCOLOR_HSV2RGB\u001b[0m\u001b[0;34m)\u001b[0m\u001b[0;34m)\u001b[0m\u001b[0;34m\u001b[0m\u001b[0;34m\u001b[0m\u001b[0m\n",
      "\u001b[0;31mTypeError\u001b[0m: 'JpegImageFile' object is not subscriptable"
     ]
    }
   ],
   "source": [
    "img = Image.open(\"../images/ARA_9582.jpg\")\n",
    "\n",
    "def show_over(img,threshold):\n",
    "    \"\"\"\n",
    "    Muestra la parte de la imagen que se pasa de un cierto porcentaje de intensidad.\n",
    "    La intensidad va de 0 a 1, por lo que threshold tambien.\n",
    "    \"\"\"\n",
    "    img[:,:,2]=np.where(img[:,:,2]>threshold, 0, img[:,:,2])\n",
    "    fig, axs = plt.subplots(figsize=(30,20))\n",
    "    plt.imshow(cv2.cvtColor(denorm_hsv(img), cv2.COLOR_HSV2RGB))\n",
    "\n",
    "show_over(img,0.9)\n",
    "\n",
    "def transform(img,thresholdToCorrect,thresholdToConsider):\n",
    "    \"\"\"\n",
    "    Normalizamos sobre los datos contenidos en thresholdToCorrect respecto al rango\n",
    "    de valores recogidos por thresholdToConsider\n",
    "    \"\"\"\n",
    "    img[:,:,2]=np.where(img[:,:,2]>threshold, 0, img[:,:,2])\n",
    "    fig, axs = plt.subplots(figsize=(30,20))\n",
    "    plt.imshow(cv2.cvtColor(denorm_hsv(img), cv2.COLOR_HSV2RGB))\n",
    "\n",
    "transform(img,0.9,0.5)"
   ]
  },
  {
   "cell_type": "code",
   "execution_count": null,
   "metadata": {},
   "outputs": [],
   "source": [
    "\n",
    "im = Image.open('ejemplo1.webp')\n",
    "pixelMap = im.load()\n",
    "\n",
    "im.show()\n",
    "\n",
    "img = Image.new( im.mode, im.size)\n",
    "\n",
    "print(pixelMap[0,0])\n",
    "initial = (0,0,0)\n",
    "count = 0\n",
    "for i in range(img.size[0]):\n",
    "\tfor j in range(img.size[1]):\n",
    "\t\tinitial = [x+y for x,y in zip(initial, pixelMap[i,j])]\n",
    "\t\tcount+=1\n",
    "print(initial)\n",
    "average = [x // count for x in initial]\n",
    "averageBright = sum(average)//3\n",
    "average.append(averageBright)\n",
    "print(average)\n",
    "print(averageBright)\n",
    "average = tuple(average)\n",
    "\n",
    "pixelsNew = img.load()\n",
    "for i in range(img.size[0]):\n",
    "\tfor j in range(img.size[1]):\n",
    "\t\tif sum(pixelMap[i,j])//3 > averageBright:\n",
    "\t\t\tpixelMap[i,j] = average\n",
    "\t\telse:\n",
    "\t\t\tpixelsNew[i,j] = pixelMap[i,j]\n",
    "img.show()"
   ]
  }
 ],
 "metadata": {
  "kernelspec": {
   "display_name": "Python 3",
   "language": "python",
   "name": "python3"
  },
  "language_info": {
   "codemirror_mode": {
    "name": "ipython",
    "version": 3
   },
   "file_extension": ".py",
   "mimetype": "text/x-python",
   "name": "python",
   "nbconvert_exporter": "python",
   "pygments_lexer": "ipython3",
   "version": "3.8.3"
  }
 },
 "nbformat": 4,
 "nbformat_minor": 4
}
