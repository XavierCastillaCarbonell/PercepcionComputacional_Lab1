{
 "cells": [
  {
   "cell_type": "markdown",
   "metadata": {},
   "source": [
    "## Modulos"
   ]
  },
  {
   "cell_type": "code",
   "execution_count": 2,
   "metadata": {},
   "outputs": [
    {
     "ename": "ModuleNotFoundError",
     "evalue": "No module named 'cv2'",
     "output_type": "error",
     "traceback": [
      "\u001b[0;31m---------------------------------------------------------------------------\u001b[0m",
      "\u001b[0;31mModuleNotFoundError\u001b[0m                       Traceback (most recent call last)",
      "\u001b[0;32m<ipython-input-2-19a1386cc6b4>\u001b[0m in \u001b[0;36m<module>\u001b[0;34m\u001b[0m\n\u001b[1;32m      2\u001b[0m \u001b[0;32mimport\u001b[0m \u001b[0mmatplotlib\u001b[0m\u001b[0;34m.\u001b[0m\u001b[0mpyplot\u001b[0m \u001b[0;32mas\u001b[0m \u001b[0mplt\u001b[0m\u001b[0;34m\u001b[0m\u001b[0;34m\u001b[0m\u001b[0m\n\u001b[1;32m      3\u001b[0m \u001b[0;32mimport\u001b[0m \u001b[0mnumpy\u001b[0m \u001b[0;32mas\u001b[0m \u001b[0mnp\u001b[0m\u001b[0;34m\u001b[0m\u001b[0;34m\u001b[0m\u001b[0m\n\u001b[0;32m----> 4\u001b[0;31m \u001b[0;32mimport\u001b[0m \u001b[0mcv2\u001b[0m\u001b[0;34m\u001b[0m\u001b[0;34m\u001b[0m\u001b[0m\n\u001b[0m\u001b[1;32m      5\u001b[0m \u001b[0;32mimport\u001b[0m \u001b[0mmath\u001b[0m\u001b[0;34m\u001b[0m\u001b[0;34m\u001b[0m\u001b[0m\n",
      "\u001b[0;31mModuleNotFoundError\u001b[0m: No module named 'cv2'"
     ]
    }
   ],
   "source": [
    "%matplotlib inline\n",
    "import matplotlib.pyplot as plt\n",
    "import numpy as np\n",
    "import cv2\n",
    "import math"
   ]
  },
  {
   "cell_type": "markdown",
   "metadata": {},
   "source": [
    "## Carga imagen y visualización"
   ]
  },
  {
   "cell_type": "code",
   "execution_count": null,
   "metadata": {
    "scrolled": true
   },
   "outputs": [],
   "source": [
    "# Imgfile='./IMAGES/304baf26742db277bf48c524b3fd1f29.jpg'  #Posible\n",
    "# Imgfile='./IMAGES/Before-After.jpg'                      #meh\n",
    "# Imgfile='./IMAGES/download.jpg'                          # muy baja calidad\n",
    "# Imgfile='./IMAGES/flash-blown-out.jpg'                   # bastante quemada\n",
    "# Imgfile='./IMAGES/flash-blow-out.jpg'                    #Irrecuperable\n",
    "# Imgfile='./IMAGES/lucio-and-i-bad-lighting.jpg'          #Amarillento\n",
    "Imgfile='./IMAGES/Propias/jpg/ARA_9558.jpg'\n",
    "# Imgfile='./IMAGES/Propias/jpg/ARA_9557.jpg'\n",
    "\n",
    "def norm_hsv(img):\n",
    "    \"\"\"\n",
    "    Normaliza una imagen HSV. La pasa el canal del brillo de 0-255 en np.uint8 a 0-1 en float\n",
    "    \"\"\"\n",
    "    out=np.copy(img.astype(float))\n",
    "    out[:,:,2]=img[:,:,2]/255\n",
    "    return out\n",
    "def denorm_hsv(img):\n",
    "    \"\"\"\n",
    "    Operazion inversa a norm_hsv(). Devulve la imagen HSV en np.uint8 con H de 0-179 S de 0-255 y V de 0-255 (formato estandar de cv2)\n",
    "    \"\"\"\n",
    "    out=np.copy(img)\n",
    "    out[:,:,2]=img[:,:,2]*255\n",
    "    return out.astype(np.uint8)\n",
    "\n",
    "def load_img(file,resize=(1200,800),show=True):\n",
    "    \"\"\"\n",
    "    Carga la imagen suministrada (path) y devuelve la imagen en HSV normalizada (brillo de 0 a 1). Se muestra la imagen al cargarla\n",
    "    \"\"\"\n",
    "\n",
    "    img=cv2.imread(Imgfile,cv2.IMREAD_COLOR)  #Cargar imagen (lo hace en BGR)\n",
    "    \n",
    "    if resize==False:\n",
    "        pass\n",
    "    else:\n",
    "        img=cv2.resize(img,resize)           #Reducir el tamaño si la imagen es grande\n",
    "        \n",
    "    HSVimg = cv2.cvtColor(img, cv2.COLOR_BGR2HSV)\n",
    "    \n",
    "    if show:\n",
    "        fig, axs = plt.subplots(figsize=(30,20))\n",
    "        plt.imshow(cv2.cvtColor(HSVimg,cv2.COLOR_HSV2RGB))\n",
    "    \n",
    "    return norm_hsv(HSVimg)\n",
    "\n",
    "img=load_img(Imgfile)"
   ]
  },
  {
   "cell_type": "markdown",
   "metadata": {},
   "source": [
    "## Visualización zonas en el X%"
   ]
  },
  {
   "cell_type": "code",
   "execution_count": null,
   "metadata": {
    "scrolled": false
   },
   "outputs": [],
   "source": [
    "def show_over(img,threshold):\n",
    "    \"\"\"\n",
    "    Muestra la parte de la imagen que se pasa de un cierto porcentaje de intensidad.\n",
    "    La intensidad va de 0 a 1, por lo que threshold tambien.\n",
    "    \"\"\"\n",
    "    img[:,:,2]=np.where(img[:,:,2]>0.9, 0, img[:,:,2])\n",
    "    fig, axs = plt.subplots(figsize=(30,20))\n",
    "    plt.imshow(cv2.cvtColor(denorm_hsv(img), cv2.COLOR_HSV2RGB))\n",
    "\n",
    "img=load_img(Imgfile,show=False)\n",
    "show_over(img,0.9)"
   ]
  },
  {
   "cell_type": "markdown",
   "metadata": {},
   "source": [
    "# Transformación"
   ]
  },
  {
   "cell_type": "markdown",
   "metadata": {},
   "source": [
    "Para que sea más modular el codigo, defino una serie de kernels que son los que llevan a cabo la transformación puntual y una función que utiliza los kernels para hacer la transformación."
   ]
  },
  {
   "cell_type": "markdown",
   "metadata": {},
   "source": [
    "###  Kernels"
   ]
  },
  {
   "cell_type": "code",
   "execution_count": null,
   "metadata": {},
   "outputs": [],
   "source": [
    "def kernel_doble_recta(valor,xc,yc):\n",
    "    \"\"\"\n",
    "    Xc y Yc son las cordenadas del punto donde se unen las rectas.\n",
    "    \"\"\"\n",
    "    if valor<xc:\n",
    "        m=yc/xc\n",
    "        out=valor*m\n",
    "    else:\n",
    "        m=(yc-1)/(xc-1)\n",
    "        n=1-m\n",
    "        out=valor*m+n\n",
    "    return out\n",
    "\n",
    "def kernel_exp(valor,alpha,max_r,max_s):\n",
    "    \"\"\"\n",
    "    max_r es el valor maximo de entrada y max_s el de salida. Alpha más alto mayor es el efecto de reducción de brillo.\n",
    "    \"\"\"\n",
    "    c=max_s/((1+alpha)**max_r-1)\n",
    "    out=c*((1+alpha)**valor-1)\n",
    "    return out\n",
    "\n",
    "def kernel_log(valor,alpha,max_r,max_s):\n",
    "    \"\"\"\n",
    "    max_r es el valor maximo de entrada y max_s el de salida. Alpha más alto mayor es el efecto de aumento de brillo.\n",
    "    \"\"\"\n",
    "    c=max_s/np.log(1+(math.exp(alpha)-1)*max_r)\n",
    "    out=c*np.log(1+(math.exp(alpha)-1)*valor)\n",
    "    return out\n",
    "                   \n",
    "def kernel_exp_recta(valor,alpha,inicio_r,inicio_s,max_r,max_s):\n",
    "    \"\"\"\n",
    "    Similar al kernel exponencial, pero se combina con la transformación identidad\n",
    "    \"\"\"\n",
    "    c=(max_s-inicio_s)/((1+alpha)**(max_r-inicio_r)-1)\n",
    "    if valor<inicio_r:\n",
    "        m=inicio_s/inicio_r\n",
    "        out=valor*m\n",
    "    else:\n",
    "        out=c*((1+alpha)**(valor-inicio_r)-1)+inicio_s\n",
    "    return out"
   ]
  },
  {
   "cell_type": "markdown",
   "metadata": {},
   "source": [
    "### Visualizar kernels"
   ]
  },
  {
   "cell_type": "code",
   "execution_count": null,
   "metadata": {},
   "outputs": [],
   "source": [
    "def show_kernel(kernel,*args):\n",
    "    r=np.linspace(0,1,100)\n",
    "    s=np.array([kernel(i,*args) for i in r])\n",
    "    fig, axs = plt.subplots(figsize=(3,3))\n",
    "    plt.plot(r,s)\n",
    "    \n",
    "show_kernel(kernel_doble_recta,0.9,0.5)\n",
    "show_kernel(kernel_exp,10,1,1)\n",
    "show_kernel(kernel_log,-2,1,1)\n",
    "show_kernel(kernel_exp_recta,1E+15,0.75,0.6,1,1)"
   ]
  },
  {
   "cell_type": "markdown",
   "metadata": {},
   "source": [
    "### Funcion de transformacion"
   ]
  },
  {
   "cell_type": "code",
   "execution_count": null,
   "metadata": {},
   "outputs": [],
   "source": [
    "def transform(img,kernel,*args,show=True): \n",
    "    \"\"\"\n",
    "    Se le pasa, la imagen en HSV normalizado, el kernel, los argumentos del kernel en orden, y si quieres que compare el resultado con el oringinal\n",
    "    \"\"\"\n",
    "    nx,ny,nz=img.shape\n",
    "    out=np.copy(img)\n",
    "    for x in range(nx):\n",
    "        for y in range(ny):\n",
    "            out[x,y,2]=kernel(img[x,y,2],*args)\n",
    "    if show:\n",
    "        fig, axs = plt.subplots(1,2,figsize=(30,20))\n",
    "        axs[1].imshow(cv2.cvtColor(denorm_hsv(out), cv2.COLOR_HSV2RGB))\n",
    "        axs[0].imshow(cv2.cvtColor(denorm_hsv(img), cv2.COLOR_HSV2RGB))\n",
    "    return out\n",
    "\n",
    "img=load_img(Imgfile,show=False)\n",
    "\n",
    "print(\"Prueba doble recta\")\n",
    "output=transform(img,kernel_doble_recta,0.9,0.5)\n",
    "print(\"Prueba exponencial\")\n",
    "output=transform(img,kernel_exp,10,1,1)\n",
    "print(\"Prueba logaritmo\")\n",
    "output=transform(img,kernel_log,-2,1,1)\n",
    "print(\"Prueba exponencial mas recta\")\n",
    "output=transform(img,kernel_exp_recta,1E+15,0.75,0.6,1,1)"
   ]
  },
  {
   "cell_type": "code",
   "execution_count": null,
   "metadata": {},
   "outputs": [],
   "source": []
  },
  {
   "cell_type": "code",
   "execution_count": null,
   "metadata": {},
   "outputs": [],
   "source": []
  }
 ],
 "metadata": {
  "kernelspec": {
   "display_name": "Python 3",
   "language": "python",
   "name": "python3"
  },
  "language_info": {
   "codemirror_mode": {
    "name": "ipython",
    "version": 3
   },
   "file_extension": ".py",
   "mimetype": "text/x-python",
   "name": "python",
   "nbconvert_exporter": "python",
   "pygments_lexer": "ipython3",
   "version": "3.8.3"
  }
 },
 "nbformat": 4,
 "nbformat_minor": 4
}
